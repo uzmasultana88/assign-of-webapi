{
 "cells": [
  {
   "cell_type": "markdown",
   "id": "10a839f7-3404-4c74-b6e1-783407d66eb0",
   "metadata": {},
   "source": [
    "Q1. What is an API? Give an example, where an API is used in real life.\n",
    "\n",
    "ans.An Application programming interface  allows two software applications to interact with each other by sharing data and functionality. \n",
    "An API acts as a mediator between two applications, enabling them to communicate with each other.\n",
    "In practice, an API can be used to connect virtually any processes. Here are a few common examples of APIs: Sharing flight information between airlines and travel sites.\n",
    "Using Google Maps in a rideshare app"
   ]
  },
  {
   "cell_type": "markdown",
   "id": "572fdb83-bd93-4cb1-94ae-0fbf7a1042d1",
   "metadata": {},
   "source": [
    "Q2. Give advantages and disadvantages of using API.\n",
    "\n",
    "Here are the key advantages of using an API Gateway:\n",
    "1.Improved performance. \n",
    "2.Simplified system design. \n",
    "3.Enhanced security. \n",
    "4.Improved scalability. \n",
    "5.Better monitoring and visibility. \n",
    "6.Simplified Client Integration. \n",
    "7.Protocol and Data Format Transformation. \n",
    "8.API Versioning and Backward Compatibility.\n",
    "\n",
    "disadvantages of using api:\n",
    "    1. Additional Complexity\n",
    "    2. Single Point of Failure\n",
    "    3. Latency\n",
    "    4. Vendor Lock-in\n",
    "    5. Cost\n",
    "    6. Maintenance Overhead\n",
    "    7. Configuration Complexity\n",
    "    "
   ]
  },
  {
   "cell_type": "markdown",
   "id": "dcbc9202-3c43-4224-b197-58f766fa441b",
   "metadata": {},
   "source": [
    "Q3. What is a Web API? Differentiate between API and Web API.\n",
    "\n",
    "ans.A Web API is a set of standards and protocols for accessing web-based software applications or web tools. \n",
    "It provides a way for different software systems to communicate with each other over the internet.\n",
    "\n",
    "APIs allow applications to communicate, while web services allow machines to communicate. Web services,\n",
    "SOAP (Simple Object Access Protocol), and XML have been somewhat replaced by RESTful APIs due to REST (REpresentational State Transfer) \n",
    "and JSON (Javascript Object Notation) being lighter, faster, and more agnostic\n",
    "\n",
    "Web services require SOAP and XML to transfer data over a network, while APIs can use any protocols or design patterns.\n",
    "APIs allow applications to communicate, while web services allow machines to communicate.\n",
    "Web Services requires a network connection while APIs may or may not require a network for their operability.\n",
    "Web services require SOAP and XML, which are no longer the most popular standard.\n",
    "APIs are more efficient, with RESTful web services offering a more light-weight architecture web services are heavy.\n",
    "Web services only support HTTP as a backbone, while APIs are more flexible.\n"
   ]
  },
  {
   "cell_type": "markdown",
   "id": "dbb9d94c-2463-4314-8af1-b50d3d45e368",
   "metadata": {},
   "source": [
    "Q4. Explain REST and SOAP Architecture. Mention shortcomings of SOAP.\n",
    "\n",
    "ans.REST stands for Representational State Transfer and is a software architecture style for creating scalable web services. RESTful web services use HTTP protocols and return data in the form of JSON or XML. RESTful architecture is designed to be lightweight and easy to use, making it a popular choice for building web-based applications and APIs.\n",
    "\n",
    " SOAP stands for Simple Object Access Protocol and is a protocol for sending and receiving messages between applications. SOAP messages are typically sent over HTTP or other transport protocols and are formatted in XML. SOAP is designed to provide a secure and reliable way for applications to communicate with each other, making it a popular choice for building web-based services.\n",
    " \n",
    "    shortcomings of soap:SOAP supports only XML data exchange. REST supports XML, JSON, plain text, HTML. SOAP messages are larger, which makes communication slower. REST has faster performance due to smaller messages and caching support.\n",
    "    Less intuitive: SOAP is centered around actions and methods, which many find less intuitive than REST's resource-based approach."
   ]
  },
  {
   "cell_type": "markdown",
   "id": "996703a4-4008-4226-b708-989d19ea943e",
   "metadata": {},
   "source": [
    "Q5. Differentiate between REST and SOAP.\n",
    "SOAP stands for Simple Object Access Protocol and REST stands for Representational State Transfer.\n",
    "\n",
    "Since SOAP is a protocol, it follows a strict standard to allow communication between the client and the server whereas REST is an architectural style that doesn’t follow any strict standard but follows six constraints defined by Roy Fielding in 2000. Those constraints are – Uniform Interface, Client-Server, Stateless, Cacheable, La\n",
    "yered System, Code on Demand.\n",
    "SOAP uses only XML for exchanging information in its message format whereas REST is not restricted to XML and its the choice of implementer which Media-Type to use like XML, JSON, Plain-text. Moreover, REST can use SOAP protocol but SOAP cannot use REST.\n",
    "\n",
    "On behalf of services interfaces to business logic, SOAP uses @WebService whereas REST instead of using interfaces uses URI like @Path.\n",
    "\n",
    "SOAP is difficult to implement and it requires more bandwidth whereas REST is easy to implement and requires less bandwidth such as smartphones.\n",
    "\n",
    "Benefits of SOAP over REST as SOAP has ACID compliance transaction. Some of the applications require transaction ability which is accepted by SOAP whereas REST lacks in it.\n",
    "\n",
    "On the basis of Security, SOAP has SSL( Secure Socket Layer) and WS-security whereas REST has SSL and HTTPS. In the case of Bank Account Password, Card Number, etc. SOAP is preferred over REST. The security issue is all about your application requirement, you have to build security on your own. It’s about what type of protocol you use.\n",
    "\n",
    "SOAP cannot make use of REST since SOAP is a protocol without any architectural pattern. REST can make use of SOAP because it is an architectural pattern having protocol."
   ]
  },
  {
   "cell_type": "code",
   "execution_count": null,
   "id": "5e666ad7-439b-4076-8e94-2106db896883",
   "metadata": {},
   "outputs": [],
   "source": []
  }
 ],
 "metadata": {
  "kernelspec": {
   "display_name": "Python 3 (ipykernel)",
   "language": "python",
   "name": "python3"
  },
  "language_info": {
   "codemirror_mode": {
    "name": "ipython",
    "version": 3
   },
   "file_extension": ".py",
   "mimetype": "text/x-python",
   "name": "python",
   "nbconvert_exporter": "python",
   "pygments_lexer": "ipython3",
   "version": "3.10.8"
  }
 },
 "nbformat": 4,
 "nbformat_minor": 5
}
